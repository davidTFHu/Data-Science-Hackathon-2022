{
 "cells": [
  {
   "cell_type": "code",
   "execution_count": 1,
   "id": "26915163",
   "metadata": {},
   "outputs": [],
   "source": [
    "import pandas as pd \n",
    "import numpy as np\n",
    "import matplotlib.pyplot as plt\n",
    "from sklearn.decomposition import PCA\n",
    "from sklearn.preprocessing import StandardScaler\n",
    "%matplotlib inline"
   ]
  },
  {
   "cell_type": "code",
   "execution_count": 19,
   "id": "b1b5721d",
   "metadata": {},
   "outputs": [],
   "source": [
    "df = pd.read_csv('data.csv')"
   ]
  },
  {
   "cell_type": "code",
   "execution_count": 20,
   "id": "b9d4b27a",
   "metadata": {},
   "outputs": [],
   "source": [
    "# Dropping unnecessary columns\n",
    "df.drop(['searchInv', 'testDrive', 'findDealer'],axis=1,inplace=True)"
   ]
  },
  {
   "cell_type": "code",
   "execution_count": 21,
   "id": "0afb1118",
   "metadata": {},
   "outputs": [
    {
     "data": {
      "text/html": [
       "<div>\n",
       "<style scoped>\n",
       "    .dataframe tbody tr th:only-of-type {\n",
       "        vertical-align: middle;\n",
       "    }\n",
       "\n",
       "    .dataframe tbody tr th {\n",
       "        vertical-align: top;\n",
       "    }\n",
       "\n",
       "    .dataframe thead th {\n",
       "        text-align: right;\n",
       "    }\n",
       "</style>\n",
       "<table border=\"1\" class=\"dataframe\">\n",
       "  <thead>\n",
       "    <tr style=\"text-align: right;\">\n",
       "      <th></th>\n",
       "      <th>bpFinish</th>\n",
       "      <th>vehQuote</th>\n",
       "      <th>bpStart</th>\n",
       "      <th>tradeIn</th>\n",
       "      <th>incView</th>\n",
       "      <th>quickQuote</th>\n",
       "      <th>paymentEst</th>\n",
       "      <th>clickCall</th>\n",
       "      <th>avgPageVis</th>\n",
       "      <th>avgSiteTime</th>\n",
       "      <th>naturalSearchVis</th>\n",
       "      <th>bookmarkedVis</th>\n",
       "      <th>paidSearchVis</th>\n",
       "      <th>bannerVis</th>\n",
       "      <th>vehHomeVis</th>\n",
       "      <th>galleryVis</th>\n",
       "    </tr>\n",
       "  </thead>\n",
       "  <tbody>\n",
       "    <tr>\n",
       "      <th>0</th>\n",
       "      <td>7866</td>\n",
       "      <td>107</td>\n",
       "      <td>14352</td>\n",
       "      <td>14</td>\n",
       "      <td>5021</td>\n",
       "      <td>13</td>\n",
       "      <td>8067</td>\n",
       "      <td>3</td>\n",
       "      <td>3.997789</td>\n",
       "      <td>377.434487</td>\n",
       "      <td>11736</td>\n",
       "      <td>13865</td>\n",
       "      <td>8846</td>\n",
       "      <td>29029</td>\n",
       "      <td>9630</td>\n",
       "      <td>1236</td>\n",
       "    </tr>\n",
       "    <tr>\n",
       "      <th>1</th>\n",
       "      <td>7800</td>\n",
       "      <td>116</td>\n",
       "      <td>14679</td>\n",
       "      <td>34</td>\n",
       "      <td>4975</td>\n",
       "      <td>32</td>\n",
       "      <td>8159</td>\n",
       "      <td>28</td>\n",
       "      <td>3.909444</td>\n",
       "      <td>371.873767</td>\n",
       "      <td>12572</td>\n",
       "      <td>16079</td>\n",
       "      <td>9200</td>\n",
       "      <td>31176</td>\n",
       "      <td>10059</td>\n",
       "      <td>1296</td>\n",
       "    </tr>\n",
       "    <tr>\n",
       "      <th>2</th>\n",
       "      <td>7701</td>\n",
       "      <td>112</td>\n",
       "      <td>14652</td>\n",
       "      <td>17</td>\n",
       "      <td>4603</td>\n",
       "      <td>34</td>\n",
       "      <td>7470</td>\n",
       "      <td>30</td>\n",
       "      <td>3.952293</td>\n",
       "      <td>373.958955</td>\n",
       "      <td>10040</td>\n",
       "      <td>13643</td>\n",
       "      <td>11368</td>\n",
       "      <td>27494</td>\n",
       "      <td>12213</td>\n",
       "      <td>1485</td>\n",
       "    </tr>\n",
       "    <tr>\n",
       "      <th>3</th>\n",
       "      <td>7086</td>\n",
       "      <td>82</td>\n",
       "      <td>13443</td>\n",
       "      <td>22</td>\n",
       "      <td>3865</td>\n",
       "      <td>27</td>\n",
       "      <td>6772</td>\n",
       "      <td>7</td>\n",
       "      <td>3.973709</td>\n",
       "      <td>381.409387</td>\n",
       "      <td>9452</td>\n",
       "      <td>10967</td>\n",
       "      <td>11084</td>\n",
       "      <td>28035</td>\n",
       "      <td>11015</td>\n",
       "      <td>1365</td>\n",
       "    </tr>\n",
       "    <tr>\n",
       "      <th>4</th>\n",
       "      <td>7570</td>\n",
       "      <td>92</td>\n",
       "      <td>14032</td>\n",
       "      <td>15</td>\n",
       "      <td>3980</td>\n",
       "      <td>27</td>\n",
       "      <td>7324</td>\n",
       "      <td>16</td>\n",
       "      <td>4.088452</td>\n",
       "      <td>390.358692</td>\n",
       "      <td>10893</td>\n",
       "      <td>12097</td>\n",
       "      <td>11356</td>\n",
       "      <td>26167</td>\n",
       "      <td>10542</td>\n",
       "      <td>1463</td>\n",
       "    </tr>\n",
       "  </tbody>\n",
       "</table>\n",
       "</div>"
      ],
      "text/plain": [
       "   bpFinish  vehQuote  bpStart  tradeIn  incView  quickQuote  paymentEst  \\\n",
       "0      7866       107    14352       14     5021          13        8067   \n",
       "1      7800       116    14679       34     4975          32        8159   \n",
       "2      7701       112    14652       17     4603          34        7470   \n",
       "3      7086        82    13443       22     3865          27        6772   \n",
       "4      7570        92    14032       15     3980          27        7324   \n",
       "\n",
       "   clickCall  avgPageVis  avgSiteTime  naturalSearchVis  bookmarkedVis  \\\n",
       "0          3    3.997789   377.434487             11736          13865   \n",
       "1         28    3.909444   371.873767             12572          16079   \n",
       "2         30    3.952293   373.958955             10040          13643   \n",
       "3          7    3.973709   381.409387              9452          10967   \n",
       "4         16    4.088452   390.358692             10893          12097   \n",
       "\n",
       "   paidSearchVis  bannerVis  vehHomeVis  galleryVis  \n",
       "0           8846      29029        9630        1236  \n",
       "1           9200      31176       10059        1296  \n",
       "2          11368      27494       12213        1485  \n",
       "3          11084      28035       11015        1365  \n",
       "4          11356      26167       10542        1463  "
      ]
     },
     "execution_count": 21,
     "metadata": {},
     "output_type": "execute_result"
    }
   ],
   "source": [
    "df.head()"
   ]
  },
  {
   "cell_type": "code",
   "execution_count": 22,
   "id": "ce211c15",
   "metadata": {},
   "outputs": [
    {
     "data": {
      "text/plain": [
       "(730, 16)"
      ]
     },
     "execution_count": 22,
     "metadata": {},
     "output_type": "execute_result"
    }
   ],
   "source": [
    "df.shape"
   ]
  },
  {
   "cell_type": "code",
   "execution_count": 23,
   "id": "8703b8a9",
   "metadata": {},
   "outputs": [
    {
     "data": {
      "text/plain": [
       "Index(['bpFinish', 'vehQuote', 'bpStart', 'tradeIn', 'incView', 'quickQuote',\n",
       "       'paymentEst', 'clickCall', 'avgPageVis', 'avgSiteTime',\n",
       "       'naturalSearchVis', 'bookmarkedVis', 'paidSearchVis', 'bannerVis',\n",
       "       'vehHomeVis', 'galleryVis'],\n",
       "      dtype='object')"
      ]
     },
     "execution_count": 23,
     "metadata": {},
     "output_type": "execute_result"
    }
   ],
   "source": [
    "df.columns"
   ]
  },
  {
   "cell_type": "code",
   "execution_count": 25,
   "id": "89c3292d",
   "metadata": {},
   "outputs": [],
   "source": [
    "features = ['bpFinish', 'vehQuote', 'bpStart', 'tradeIn', 'incView', 'quickQuote',\n",
    "       'paymentEst', 'clickCall', 'avgPageVis', 'avgSiteTime',\n",
    "       'naturalSearchVis', 'bookmarkedVis', 'paidSearchVis', 'bannerVis',\n",
    "       'vehHomeVis', 'galleryVis']\n",
    "# Separating out the features\n",
    "x = df.loc[:, features].values\n",
    "# Standardizing the features\n",
    "x = StandardScaler().fit_transform(x)"
   ]
  },
  {
   "cell_type": "code",
   "execution_count": 28,
   "id": "e28926da",
   "metadata": {},
   "outputs": [
    {
     "data": {
      "text/html": [
       "<div>\n",
       "<style scoped>\n",
       "    .dataframe tbody tr th:only-of-type {\n",
       "        vertical-align: middle;\n",
       "    }\n",
       "\n",
       "    .dataframe tbody tr th {\n",
       "        vertical-align: top;\n",
       "    }\n",
       "\n",
       "    .dataframe thead th {\n",
       "        text-align: right;\n",
       "    }\n",
       "</style>\n",
       "<table border=\"1\" class=\"dataframe\">\n",
       "  <thead>\n",
       "    <tr style=\"text-align: right;\">\n",
       "      <th></th>\n",
       "      <th>bpFinish</th>\n",
       "      <th>vehQuote</th>\n",
       "      <th>bpStart</th>\n",
       "      <th>tradeIn</th>\n",
       "      <th>incView</th>\n",
       "      <th>quickQuote</th>\n",
       "      <th>paymentEst</th>\n",
       "      <th>clickCall</th>\n",
       "      <th>avgPageVis</th>\n",
       "      <th>avgSiteTime</th>\n",
       "      <th>naturalSearchVis</th>\n",
       "      <th>bookmarkedVis</th>\n",
       "      <th>paidSearchVis</th>\n",
       "      <th>bannerVis</th>\n",
       "      <th>vehHomeVis</th>\n",
       "      <th>galleryVis</th>\n",
       "    </tr>\n",
       "  </thead>\n",
       "  <tbody>\n",
       "    <tr>\n",
       "      <th>0</th>\n",
       "      <td>-1.682885</td>\n",
       "      <td>-0.164132</td>\n",
       "      <td>-1.036097</td>\n",
       "      <td>-0.936442</td>\n",
       "      <td>1.460688</td>\n",
       "      <td>-1.398409</td>\n",
       "      <td>-0.701713</td>\n",
       "      <td>-1.375684</td>\n",
       "      <td>-1.063968</td>\n",
       "      <td>-2.080612</td>\n",
       "      <td>-1.352059</td>\n",
       "      <td>-0.860570</td>\n",
       "      <td>-0.444130</td>\n",
       "      <td>0.704557</td>\n",
       "      <td>-0.680488</td>\n",
       "      <td>-0.002512</td>\n",
       "    </tr>\n",
       "    <tr>\n",
       "      <th>1</th>\n",
       "      <td>-1.696556</td>\n",
       "      <td>-0.010958</td>\n",
       "      <td>-0.961673</td>\n",
       "      <td>1.479114</td>\n",
       "      <td>1.426831</td>\n",
       "      <td>-1.126143</td>\n",
       "      <td>-0.674688</td>\n",
       "      <td>1.106396</td>\n",
       "      <td>-1.168408</td>\n",
       "      <td>-2.275856</td>\n",
       "      <td>-1.137820</td>\n",
       "      <td>-0.245212</td>\n",
       "      <td>-0.309990</td>\n",
       "      <td>0.907756</td>\n",
       "      <td>-0.576703</td>\n",
       "      <td>0.144570</td>\n",
       "    </tr>\n",
       "    <tr>\n",
       "      <th>2</th>\n",
       "      <td>-1.717064</td>\n",
       "      <td>-0.079035</td>\n",
       "      <td>-0.967818</td>\n",
       "      <td>-0.574108</td>\n",
       "      <td>1.153030</td>\n",
       "      <td>-1.097484</td>\n",
       "      <td>-0.877079</td>\n",
       "      <td>1.304962</td>\n",
       "      <td>-1.117752</td>\n",
       "      <td>-2.202642</td>\n",
       "      <td>-1.786688</td>\n",
       "      <td>-0.922272</td>\n",
       "      <td>0.511524</td>\n",
       "      <td>0.559279</td>\n",
       "      <td>-0.055603</td>\n",
       "      <td>0.607877</td>\n",
       "    </tr>\n",
       "    <tr>\n",
       "      <th>3</th>\n",
       "      <td>-1.844462</td>\n",
       "      <td>-0.589615</td>\n",
       "      <td>-1.242983</td>\n",
       "      <td>0.029781</td>\n",
       "      <td>0.609844</td>\n",
       "      <td>-1.197792</td>\n",
       "      <td>-1.082113</td>\n",
       "      <td>-0.978551</td>\n",
       "      <td>-1.092435</td>\n",
       "      <td>-1.941049</td>\n",
       "      <td>-1.937373</td>\n",
       "      <td>-1.666038</td>\n",
       "      <td>0.403909</td>\n",
       "      <td>0.610481</td>\n",
       "      <td>-0.345426</td>\n",
       "      <td>0.313713</td>\n",
       "    </tr>\n",
       "    <tr>\n",
       "      <th>4</th>\n",
       "      <td>-1.744201</td>\n",
       "      <td>-0.419422</td>\n",
       "      <td>-1.108928</td>\n",
       "      <td>-0.815664</td>\n",
       "      <td>0.694487</td>\n",
       "      <td>-1.197792</td>\n",
       "      <td>-0.919966</td>\n",
       "      <td>-0.085003</td>\n",
       "      <td>-0.956789</td>\n",
       "      <td>-1.626828</td>\n",
       "      <td>-1.568092</td>\n",
       "      <td>-1.351966</td>\n",
       "      <td>0.506977</td>\n",
       "      <td>0.433688</td>\n",
       "      <td>-0.459855</td>\n",
       "      <td>0.553947</td>\n",
       "    </tr>\n",
       "  </tbody>\n",
       "</table>\n",
       "</div>"
      ],
      "text/plain": [
       "   bpFinish  vehQuote   bpStart   tradeIn   incView  quickQuote  paymentEst  \\\n",
       "0 -1.682885 -0.164132 -1.036097 -0.936442  1.460688   -1.398409   -0.701713   \n",
       "1 -1.696556 -0.010958 -0.961673  1.479114  1.426831   -1.126143   -0.674688   \n",
       "2 -1.717064 -0.079035 -0.967818 -0.574108  1.153030   -1.097484   -0.877079   \n",
       "3 -1.844462 -0.589615 -1.242983  0.029781  0.609844   -1.197792   -1.082113   \n",
       "4 -1.744201 -0.419422 -1.108928 -0.815664  0.694487   -1.197792   -0.919966   \n",
       "\n",
       "   clickCall  avgPageVis  avgSiteTime  naturalSearchVis  bookmarkedVis  \\\n",
       "0  -1.375684   -1.063968    -2.080612         -1.352059      -0.860570   \n",
       "1   1.106396   -1.168408    -2.275856         -1.137820      -0.245212   \n",
       "2   1.304962   -1.117752    -2.202642         -1.786688      -0.922272   \n",
       "3  -0.978551   -1.092435    -1.941049         -1.937373      -1.666038   \n",
       "4  -0.085003   -0.956789    -1.626828         -1.568092      -1.351966   \n",
       "\n",
       "   paidSearchVis  bannerVis  vehHomeVis  galleryVis  \n",
       "0      -0.444130   0.704557   -0.680488   -0.002512  \n",
       "1      -0.309990   0.907756   -0.576703    0.144570  \n",
       "2       0.511524   0.559279   -0.055603    0.607877  \n",
       "3       0.403909   0.610481   -0.345426    0.313713  \n",
       "4       0.506977   0.433688   -0.459855    0.553947  "
      ]
     },
     "execution_count": 28,
     "metadata": {},
     "output_type": "execute_result"
    }
   ],
   "source": [
    "pd.DataFrame(data = x, columns = features).head()"
   ]
  },
  {
   "cell_type": "code",
   "execution_count": 59,
   "id": "053879a5",
   "metadata": {},
   "outputs": [],
   "source": [
    "pca = PCA(n_components=8)\n",
    "principalComponents = pca.fit_transform(x)"
   ]
  },
  {
   "cell_type": "code",
   "execution_count": 60,
   "id": "d7a2342f",
   "metadata": {},
   "outputs": [
    {
     "data": {
      "text/plain": [
       "array([0.27048364, 0.18970762, 0.10676635, 0.07970867, 0.0711545 ,\n",
       "       0.05388503, 0.04535995, 0.04111207])"
      ]
     },
     "execution_count": 60,
     "metadata": {},
     "output_type": "execute_result"
    }
   ],
   "source": [
    "pca.explained_variance_ratio_"
   ]
  },
  {
   "cell_type": "code",
   "execution_count": 61,
   "id": "2dbda675",
   "metadata": {},
   "outputs": [
    {
     "data": {
      "image/png": "[encoded data removed]",
      "text/plain": [
       "<Figure size 432x288 with 1 Axes>"
      ]
     },
     "metadata": {
      "needs_background": "light"
     },
     "output_type": "display_data"
    }
   ],
   "source": [
    "importance = pca.explained_variance_ratio_\n",
    "plt.scatter(range(1,9),importance)\n",
    "plt.plot(range(1,9),importance)\n",
    "plt.title('Scree Plot')\n",
    "plt.xlabel('Factors')\n",
    "plt.ylabel('Eigenvalue')\n",
    "plt.grid()\n",
    "plt.show()"
   ]
  },
  {
   "cell_type": "code",
   "execution_count": 130,
   "id": "70c1edc6",
   "metadata": {},
   "outputs": [],
   "source": [
    "pca = PCA(n_components=4)"
   ]
  },
  {
   "cell_type": "code",
   "execution_count": 131,
   "id": "cd4891a1",
   "metadata": {},
   "outputs": [],
   "source": [
    "principalComponents = pca.fit_transform(x)"
   ]
  },
  {
   "cell_type": "code",
   "execution_count": 132,
   "id": "1ab54b01",
   "metadata": {},
   "outputs": [
    {
     "data": {
      "text/html": [
       "<div>\n",
       "<style scoped>\n",
       "    .dataframe tbody tr th:only-of-type {\n",
       "        vertical-align: middle;\n",
       "    }\n",
       "\n",
       "    .dataframe tbody tr th {\n",
       "        vertical-align: top;\n",
       "    }\n",
       "\n",
       "    .dataframe thead th {\n",
       "        text-align: right;\n",
       "    }\n",
       "</style>\n",
       "<table border=\"1\" class=\"dataframe\">\n",
       "  <thead>\n",
       "    <tr style=\"text-align: right;\">\n",
       "      <th></th>\n",
       "      <th>principal component 1</th>\n",
       "      <th>principal component 2</th>\n",
       "      <th>principal component 3</th>\n",
       "      <th>principal component 4</th>\n",
       "    </tr>\n",
       "  </thead>\n",
       "  <tbody>\n",
       "    <tr>\n",
       "      <th>0</th>\n",
       "      <td>0.142653</td>\n",
       "      <td>-3.968361</td>\n",
       "      <td>-0.611057</td>\n",
       "      <td>-0.098710</td>\n",
       "    </tr>\n",
       "    <tr>\n",
       "      <th>1</th>\n",
       "      <td>0.453032</td>\n",
       "      <td>-2.914421</td>\n",
       "      <td>1.059545</td>\n",
       "      <td>2.281821</td>\n",
       "    </tr>\n",
       "    <tr>\n",
       "      <th>2</th>\n",
       "      <td>0.504539</td>\n",
       "      <td>-3.810838</td>\n",
       "      <td>0.189021</td>\n",
       "      <td>1.937930</td>\n",
       "    </tr>\n",
       "    <tr>\n",
       "      <th>3</th>\n",
       "      <td>-0.173433</td>\n",
       "      <td>-4.306159</td>\n",
       "      <td>-0.519000</td>\n",
       "      <td>0.653448</td>\n",
       "    </tr>\n",
       "    <tr>\n",
       "      <th>4</th>\n",
       "      <td>0.013534</td>\n",
       "      <td>-3.924415</td>\n",
       "      <td>-0.465935</td>\n",
       "      <td>0.683394</td>\n",
       "    </tr>\n",
       "  </tbody>\n",
       "</table>\n",
       "</div>"
      ],
      "text/plain": [
       "   principal component 1  principal component 2  principal component 3  \\\n",
       "0               0.142653              -3.968361              -0.611057   \n",
       "1               0.453032              -2.914421               1.059545   \n",
       "2               0.504539              -3.810838               0.189021   \n",
       "3              -0.173433              -4.306159              -0.519000   \n",
       "4               0.013534              -3.924415              -0.465935   \n",
       "\n",
       "   principal component 4  \n",
       "0              -0.098710  \n",
       "1               2.281821  \n",
       "2               1.937930  \n",
       "3               0.653448  \n",
       "4               0.683394  "
      ]
     },
     "execution_count": 132,
     "metadata": {},
     "output_type": "execute_result"
    }
   ],
   "source": [
    "principalDf = pd.DataFrame(data=principalComponents, columns=['principal component 1', 'principal component 2', 'principal component 3', 'principal component 4'])\n",
    "finalDf = principalDf\n",
    "finalDf.head(5)"
   ]
  },
  {
   "cell_type": "code",
   "execution_count": 133,
   "id": "1f6d76f0",
   "metadata": {},
   "outputs": [
    {
     "data": {
      "text/plain": [
       "array([0.27048364, 0.18970762, 0.10676635, 0.07970867])"
      ]
     },
     "execution_count": 133,
     "metadata": {},
     "output_type": "execute_result"
    }
   ],
   "source": [
    "pca.explained_variance_ratio_"
   ]
  },
  {
   "cell_type": "code",
   "execution_count": 134,
   "id": "1bf1c40b",
   "metadata": {},
   "outputs": [
    {
     "data": {
      "text/plain": [
       "array([4.33367485, 3.03948561, 1.71060488, 1.27708818])"
      ]
     },
     "execution_count": 134,
     "metadata": {},
     "output_type": "execute_result"
    }
   ],
   "source": [
    "pca.explained_variance_"
   ]
  },
  {
   "cell_type": "code",
   "execution_count": 135,
   "id": "ddf2cbe3",
   "metadata": {},
   "outputs": [
    {
     "data": {
      "text/plain": [
       "array([[ 0.11310315, -0.02811804,  0.2157    , -0.00314629,  0.34618444,\n",
       "        -0.25387134,  0.18986294, -0.03148894, -0.34112482, -0.01169661,\n",
       "         0.14225099,  0.30602527,  0.34347456,  0.34472003,  0.35693978,\n",
       "         0.35205738],\n",
       "       [ 0.4538396 ,  0.01287668,  0.34991107,  0.2050968 , -0.1030949 ,\n",
       "         0.34059869,  0.33729825,  0.144692  ,  0.19466801,  0.31347539,\n",
       "         0.37357282,  0.20414242, -0.11784576, -0.08750461,  0.05325753,\n",
       "        -0.16200358],\n",
       "       [-0.07919344,  0.54683722, -0.30047682,  0.39116474,  0.1375237 ,\n",
       "         0.07824899, -0.30202095,  0.17529827,  0.2778825 , -0.14219347,\n",
       "         0.27210974,  0.19765983,  0.0029833 , -0.06020699,  0.11696556,\n",
       "         0.27668388],\n",
       "       [-0.19099285, -0.24343732,  0.01716612,  0.27019163, -0.02509947,\n",
       "         0.28884664,  0.14299556,  0.63089905, -0.15098182, -0.44040204,\n",
       "        -0.18015312,  0.05185778,  0.14444067,  0.09078766,  0.08316822,\n",
       "        -0.20125061]])"
      ]
     },
     "execution_count": 135,
     "metadata": {},
     "output_type": "execute_result"
    }
   ],
   "source": [
    "pca.components_"
   ]
  },
  {
   "cell_type": "code",
   "execution_count": 136,
   "id": "f981b54b",
   "metadata": {},
   "outputs": [
    {
     "data": {
      "text/plain": [
       "(0.14265282269754342, -3.968359019340448)"
      ]
     },
     "execution_count": 136,
     "metadata": {},
     "output_type": "execute_result"
    }
   ],
   "source": [
    "(np.dot(x[0],pca.components_[0]), np.dot(x[0],pca.components_[1]))"
   ]
  },
  {
   "cell_type": "code",
   "execution_count": 141,
   "id": "5ebc5595",
   "metadata": {},
   "outputs": [
    {
     "data": {
      "image/png": "[encoded data removed]",
      "text/plain": [
       "<Figure size 1008x1008 with 2 Axes>"
      ]
     },
     "metadata": {},
     "output_type": "display_data"
    }
   ],
   "source": [
    "import seaborn as sns\n",
    "\n",
    "df_cm = pd.DataFrame(np.abs(pca.components_), columns=df.columns)\n",
    "plt.figure(figsize = (14,14))\n",
    "ax = sns.heatmap(df_cm.T, annot=True, cmap=\"BuPu\")\n",
    "sns.set(rc={'figure.facecolor':'white'})\n",
    "\n",
    "ax.yaxis.set_tick_params(labelsize=15)\n",
    "ax.xaxis.set_tick_params(labelsize=15)\n",
    "plt.title('PCA', fontsize='xx-large')\n",
    "\n",
    "\n",
    "plt.savefig('PCA.png', dpi=200)"
   ]
  },
  {
   "cell_type": "code",
   "execution_count": null,
   "id": "1743f17d",
   "metadata": {},
   "outputs": [],
   "source": []
  }
 ],
 "metadata": {
  "kernelspec": {
   "display_name": "Python 3 (ipykernel)",
   "language": "python",
   "name": "python3"
  },
  "language_info": {
   "codemirror_mode": {
    "name": "ipython",
    "version": 3
   },
   "file_extension": ".py",
   "mimetype": "text/x-python",
   "name": "python",
   "nbconvert_exporter": "python",
   "pygments_lexer": "ipython3",
   "version": "3.9.7"
  }
 },
 "nbformat": 4,
 "nbformat_minor": 5
}
